{
 "cells": [
  {
   "cell_type": "code",
   "execution_count": 3,
   "metadata": {},
   "outputs": [],
   "source": [
    "import pandas as pd\n",
    "import os\n",
    "import numpy as np\n",
    "from IPython.display import display\n",
    "import tensorflow as tf\n",
    "import math\n",
    "from keras.models import Sequential\n",
    "from keras.layers import Dense, Activation, Flatten\n",
    "from keras.utils import np_utils\n",
    "from keras import backend as K\n",
    "from keras.optimizers import Adam\n",
    "from keras.callbacks import ModelCheckpoint\n",
    "from matplotlib import pyplot as plt\n",
    "import matplotlib.image as mpimg\n",
    "%matplotlib inline\n",
    "from collections import defaultdict\n",
    "from keras.optimizers import Adam\n",
    "from keras.layers import Dense, Embedding, LSTM, GRU\n",
    "from keras import initializers"
   ]
  },
  {
   "cell_type": "code",
   "execution_count": 4,
   "metadata": {},
   "outputs": [
    {
     "name": "stdout",
     "output_type": "stream",
     "text": [
      "_________________________________________________________________\n",
      "Layer (type)                 Output Shape              Param #   \n",
      "=================================================================\n",
      "dense_1 (Dense)              (None, 1024)              75776     \n",
      "_________________________________________________________________\n",
      "dense_2 (Dense)              (None, 512)               524800    \n",
      "_________________________________________________________________\n",
      "dense_3 (Dense)              (None, 256)               131328    \n",
      "_________________________________________________________________\n",
      "dense_4 (Dense)              (None, 128)               32896     \n",
      "_________________________________________________________________\n",
      "dense_5 (Dense)              (None, 64)                8256      \n",
      "_________________________________________________________________\n",
      "dense_6 (Dense)              (None, 32)                2080      \n",
      "_________________________________________________________________\n",
      "dense_7 (Dense)              (None, 16)                528       \n",
      "_________________________________________________________________\n",
      "dense_8 (Dense)              (None, 8)                 136       \n",
      "_________________________________________________________________\n",
      "dense_9 (Dense)              (None, 4)                 36        \n",
      "=================================================================\n",
      "Total params: 775,836\n",
      "Trainable params: 775,836\n",
      "Non-trainable params: 0\n",
      "_________________________________________________________________\n"
     ]
    }
   ],
   "source": [
    "model = Sequential()\n",
    "model=Sequential()\n",
    "model.add(Dense(1024,input_shape=[73],activation='relu',\n",
    "                kernel_initializer='lecun_normal'))\n",
    "model.add(Dense(512,activation='relu',kernel_initializer='lecun_normal'))\n",
    "model.add(Dense(256,activation='relu',kernel_initializer='lecun_normal'))\n",
    "model.add(Dense(128,activation='relu',kernel_initializer='lecun_normal'))\n",
    "model.add(Dense(64,activation='relu',kernel_initializer='lecun_normal'))\n",
    "model.add(Dense(32,activation='relu',kernel_initializer='lecun_normal'))\n",
    "model.add(Dense(16,activation='relu',kernel_initializer='lecun_normal'))\n",
    "model.add(Dense(8,activation='relu',kernel_initializer='lecun_normal'))\n",
    "model.add(Dense(4,kernel_initializer='lecun_normal'))\n",
    "adam=Adam(lr=1e-3, beta_1=0.9, beta_2=0.999, epsilon=1e-08)\n",
    "filepath=\"weights-improvement-{epoch:02d}-{loss:.4f}.hdf5\"\n",
    "checkpoint = ModelCheckpoint(filepath, monitor='val_loss', verbose=1, save_best_only=True, mode='min')\n",
    "callbacks_list = [checkpoint]\n",
    "model.summary()\n",
    "model.compile(loss='mean_squared_error',               \n",
    "          optimizer=adam,\n",
    "          metrics=['mean_absolute_error']\n",
    "     )\n",
    "model.load_weights(\"weights-improvement-107-0.0011.hdf5\")"
   ]
  },
  {
   "cell_type": "code",
   "execution_count": 6,
   "metadata": {},
   "outputs": [
    {
     "name": "stdout",
     "output_type": "stream",
     "text": [
      "(9, 2)\n"
     ]
    }
   ],
   "source": [
    "weights=[]\n",
    "for layer in model.layers:\n",
    "    weights.append(layer.get_weights())\n",
    "    \n",
    "weights=np.array(weights)\n",
    "print (weights.shape)"
   ]
  },
  {
   "cell_type": "code",
   "execution_count": 7,
   "metadata": {
    "collapsed": true
   },
   "outputs": [],
   "source": [
    "W1=weights[0,0]\n",
    "b1=weights[0,1]\n",
    "W2=weights[1,0]\n",
    "b2=weights[1,1]\n",
    "W3=weights[2,0]\n",
    "b3=weights[2,1]\n",
    "W4=weights[3,0]\n",
    "b4=weights[3,1]\n",
    "W5=weights[4,0]\n",
    "b5=weights[4,1]\n",
    "W6=weights[5,0]\n",
    "b6=weights[5,1]\n",
    "W7=weights[6,0]\n",
    "b7=weights[6,1]\n",
    "W8=weights[7,0]\n",
    "b8=weights[7,1]\n",
    "W9=weights[8,0]\n",
    "b9=weights[8,1]\n",
    "np.savetxt('W1',W1)\n",
    "np.savetxt('W2',W2)\n",
    "np.savetxt('W3',W3)\n",
    "np.savetxt('W4',W4)\n",
    "np.savetxt('W5',W5)\n",
    "np.savetxt('W6',W6)\n",
    "np.savetxt('W7',W7)\n",
    "np.savetxt('W8',W8)\n",
    "np.savetxt('W9',W9)\n",
    "\n",
    "np.savetxt('b1',b1)\n",
    "np.savetxt('b2',b2)\n",
    "np.savetxt('b3',b3)\n",
    "np.savetxt('b4',b4)\n",
    "np.savetxt('b5',b5)\n",
    "np.savetxt('b6',b6)\n",
    "np.savetxt('b7',b7)\n",
    "np.savetxt('b8',b8)\n",
    "np.savetxt('b9',b9)"
   ]
  },
  {
   "cell_type": "code",
   "execution_count": null,
   "metadata": {},
   "outputs": [],
   "source": []
  },
  {
   "cell_type": "code",
   "execution_count": null,
   "metadata": {
    "collapsed": true
   },
   "outputs": [],
   "source": []
  }
 ],
 "metadata": {
  "kernelspec": {
   "display_name": "Python 3",
   "language": "python",
   "name": "python3"
  },
  "language_info": {
   "codemirror_mode": {
    "name": "ipython",
    "version": 3
   },
   "file_extension": ".py",
   "mimetype": "text/x-python",
   "name": "python",
   "nbconvert_exporter": "python",
   "pygments_lexer": "ipython3",
   "version": "3.6.1"
  }
 },
 "nbformat": 4,
 "nbformat_minor": 2
}
